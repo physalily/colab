{
  "nbformat": 4,
  "nbformat_minor": 0,
  "metadata": {
    "colab": {
      "name": "quadFuncNetwork.ipynb",
      "provenance": [],
      "collapsed_sections": [],
      "include_colab_link": true
    },
    "kernelspec": {
      "name": "python3",
      "display_name": "Python 3"
    }
  },
  "cells": [
    {
      "cell_type": "markdown",
      "metadata": {
        "id": "view-in-github",
        "colab_type": "text"
      },
      "source": [
        "<a href=\"https://colab.research.google.com/github/physalily/colab/blob/master/quadFuncNetwork.ipynb\" target=\"_parent\"><img src=\"https://colab.research.google.com/assets/colab-badge.svg\" alt=\"Open In Colab\"/></a>"
      ]
    },
    {
      "cell_type": "markdown",
      "metadata": {
        "id": "vUMKfFQ8QzSE",
        "colab_type": "text"
      },
      "source": [
        "---\n",
        "# 二次関数の近似\n",
        "---\n",
        "NNを使って二次関数を近似していきます。"
      ]
    },
    {
      "cell_type": "code",
      "metadata": {
        "id": "sQGyIAjs1dXW",
        "colab_type": "code",
        "colab": {}
      },
      "source": [
        "import keras\n",
        "import random\n",
        "import numpy as np\n",
        "import matplotlib.pyplot as plt"
      ],
      "execution_count": 0,
      "outputs": []
    },
    {
      "cell_type": "markdown",
      "metadata": {
        "id": "OKCWknWtVFfm",
        "colab_type": "text"
      },
      "source": [
        "---\n",
        "### データの生成\n",
        "---\n",
        "ネットワークに入力するデータを生成します。　今回は一般的な二次関数を使用しますが、ネットワークに入力する際には0~1の間に正規化します。\n",
        "\n",
        "これは、ネットワーク内での計算中に値が発散（無限大とか。）しないようにするためです。\n",
        "\n",
        "---\n",
        "生成したデータは数学の世界でよく見かける単純な二次関数です。今回はこの関数を近似します。"
      ]
    },
    {
      "cell_type": "code",
      "metadata": {
        "id": "YDPoFB0r4I9K",
        "colab_type": "code",
        "outputId": "29cb4a6a-7ffc-4690-c4e1-3fb663d4adcc",
        "colab": {
          "base_uri": "https://localhost:8080/",
          "height": 281
        }
      },
      "source": [
        "random.seed(10,version=2)\n",
        "xs = np.asarray([random.uniform(0, 1.0) for i in range(100)], dtype=float)\n",
        "ys = (xs-0.5)**2 + 1\n",
        "ys /= 1.25　 # nomalize.\n",
        "plt.scatter(xs, ys)\n",
        "plt.title(\"Input data　set\")\n",
        "plt.xlabel(\"input\")\n",
        "plt.ylabel(\"output\")\n",
        "plt.show()"
      ],
      "execution_count": 12,
      "outputs": [
        {
          "output_type": "display_data",
          "data": {
            "image/png": "[encoded data removed]",
            "text/plain": [
              "<Figure size 432x288 with 1 Axes>"
            ]
          },
          "metadata": {
            "tags": []
          }
        }
      ]
    },
    {
      "cell_type": "markdown",
      "metadata": {
        "id": "wrUcuyTrWUq9",
        "colab_type": "text"
      },
      "source": [
        "---\n",
        "### モデルの定義\n",
        "---\n",
        "モデルを定義します。関数として定義することで若干ながら使い勝手が良くなりますが、誤差の範囲でしょう。\n",
        "前回のモデルと比べて層が増えました。"
      ]
    },
    {
      "cell_type": "code",
      "metadata": {
        "id": "R3KtjC592MfE",
        "colab_type": "code",
        "colab": {}
      },
      "source": [
        "def modelBuild():\n",
        "  model = keras.Sequential([\n",
        "    keras.layers.Dense(1, input_shape=[1]),\n",
        "    keras.layers.Dense(10, activation='relu'),\n",
        "    keras.layers.Dense(10, activation='relu'),\n",
        "    keras.layers.Dense(10, activation='relu'),\n",
        "    keras.layers.Dense(1)\n",
        "  ])\n",
        "  model.compile(optimizer='adam', loss='mse')\n",
        "  model.summary()\n",
        "  return model"
      ],
      "execution_count": 0,
      "outputs": []
    },
    {
      "cell_type": "markdown",
      "metadata": {
        "id": "6OoUblkPWbbb",
        "colab_type": "text"
      },
      "source": [
        "---\n",
        "### 学習\n",
        "---\n",
        "学習については普段どおりに行います。パラメータ数が前回の単純パーセプトロンと比べて多くなり、より複雑な関数を近似することができるようになりました。\n",
        "\n",
        "パラメータが増加することで、学習に必要なEpoch数も増加して行きます。そのため、実用上利用可能な複雑なネットワークを学習させる際には非常に長い時間やマシンスペックが必要となってきます。"
      ]
    },
    {
      "cell_type": "code",
      "metadata": {
        "id": "PCWf-jvm3-ce",
        "colab_type": "code",
        "outputId": "278198eb-cde1-460f-f4b9-312e50736d96",
        "colab": {
          "base_uri": "https://localhost:8080/",
          "height": 385
        }
      },
      "source": [
        "model = modelBuild()\n",
        "early_stop = keras.callbacks.EarlyStopping(monitor='val_loss', patience=1000)\n",
        "history = model.fit(xs, ys, epochs=4000, verbose=0, callbacks=[early_stop])"
      ],
      "execution_count": 44,
      "outputs": [
        {
          "output_type": "stream",
          "text": [
            "Model: \"sequential_13\"\n",
            "_________________________________________________________________\n",
            "Layer (type)                 Output Shape              Param #   \n",
            "=================================================================\n",
            "dense_100 (Dense)            (None, 1)                 2         \n",
            "_________________________________________________________________\n",
            "dense_101 (Dense)            (None, 10)                20        \n",
            "_________________________________________________________________\n",
            "dense_102 (Dense)            (None, 10)                110       \n",
            "_________________________________________________________________\n",
            "dense_103 (Dense)            (None, 10)                110       \n",
            "_________________________________________________________________\n",
            "dense_104 (Dense)            (None, 1)                 11        \n",
            "=================================================================\n",
            "Total params: 253\n",
            "Trainable params: 253\n",
            "Non-trainable params: 0\n",
            "_________________________________________________________________\n"
          ],
          "name": "stdout"
        },
        {
          "output_type": "stream",
          "text": [
            "/usr/local/lib/python3.6/dist-packages/keras/callbacks.py:842: RuntimeWarning: Early stopping conditioned on metric `val_loss` which is not available. Available metrics are: loss\n",
            "  (self.monitor, ','.join(list(logs.keys()))), RuntimeWarning\n"
          ],
          "name": "stderr"
        }
      ]
    },
    {
      "cell_type": "markdown",
      "metadata": {
        "id": "cr8QNdECkgnJ",
        "colab_type": "text"
      },
      "source": [
        "---\n",
        "### 結果確認\n",
        "---\n",
        "学習させたモデルに数値を入力してどのような結果が帰ってくるか確認しましょう。\n",
        "\n",
        "入力は教師データと同じように0~1までの数値とします。"
      ]
    },
    {
      "cell_type": "code",
      "metadata": {
        "id": "-EDsI6YK5Y-I",
        "colab_type": "code",
        "outputId": "74d5beba-4f66-468f-dd8f-002d9026c196",
        "colab": {
          "base_uri": "https://localhost:8080/",
          "height": 299
        }
      },
      "source": [
        "test_data = np.asarray([random.uniform(0, 1.0) for i in range(400)], dtype=float)\n",
        "test_predict = model.predict(test_data)\n",
        "\n",
        "plt.scatter(test_data, test_predict)\n",
        "plt.title(\"Output data\")"
      ],
      "execution_count": 45,
      "outputs": [
        {
          "output_type": "execute_result",
          "data": {
            "text/plain": [
              "Text(0.5, 1.0, 'Output data')"
            ]
          },
          "metadata": {
            "tags": []
          },
          "execution_count": 45
        },
        {
          "output_type": "display_data",
          "data": {
            "image/png": "[encoded data removed]",
            "text/plain": [
              "<Figure size 432x288 with 1 Axes>"
            ]
          },
          "metadata": {
            "tags": []
          }
        }
      ]
    },
    {
      "cell_type": "markdown",
      "metadata": {
        "id": "sX-wA44Il7FX",
        "colab_type": "text"
      },
      "source": [
        "可視化すると近似できていそうですが、縮尺に注目すると残念な結果になっていることが分かると思います。"
      ]
    },
    {
      "cell_type": "code",
      "metadata": {
        "id": "nb7G52d-foML",
        "colab_type": "code",
        "outputId": "52184143-c90d-4f0e-f6cc-a4469ef72e41",
        "colab": {
          "base_uri": "https://localhost:8080/",
          "height": 299
        }
      },
      "source": [
        "test_data = np.asarray([random.uniform(-2.0, 3.0) for i in range(400)], dtype=float)\n",
        "test_predict = model.predict(test_data)\n",
        "\n",
        "plt.scatter(test_data, test_predict)\n",
        "plt.title(\"Output data\")"
      ],
      "execution_count": 46,
      "outputs": [
        {
          "output_type": "execute_result",
          "data": {
            "text/plain": [
              "Text(0.5, 1.0, 'Output data')"
            ]
          },
          "metadata": {
            "tags": []
          },
          "execution_count": 46
        },
        {
          "output_type": "display_data",
          "data": {
            "image/png": "[encoded data removed]",
            "text/plain": [
              "<Figure size 432x288 with 1 Axes>"
            ]
          },
          "metadata": {
            "tags": []
          }
        }
      ]
    },
    {
      "cell_type": "markdown",
      "metadata": {
        "id": "FCAsDPAAdVo3",
        "colab_type": "text"
      },
      "source": [
        "実際に学習させた範囲外の入力に対してはこのようなグラフになってしまいます。"
      ]
    },
    {
      "cell_type": "code",
      "metadata": {
        "id": "moUQaisTC9OR",
        "colab_type": "code",
        "outputId": "46a28d48-67ac-4d0f-fc2e-8b6e35879478",
        "colab": {
          "base_uri": "https://localhost:8080/",
          "height": 295
        }
      },
      "source": [
        "plt.plot(history.history['loss'],label='loss')\n",
        "plt.ylabel('error')\n",
        "plt.xlabel('epoch')\n",
        "plt.title('Error')\n",
        "plt.legend()\n",
        "plt.show()"
      ],
      "execution_count": 0,
      "outputs": [
        {
          "output_type": "display_data",
          "data": {
            "image/png": "[encoded data removed]",
            "text/plain": [
              "<Figure size 432x288 with 1 Axes>"
            ]
          },
          "metadata": {
            "tags": []
          }
        }
      ]
    },
    {
      "cell_type": "markdown",
      "metadata": {
        "id": "2gr2oRHIdi9_",
        "colab_type": "text"
      },
      "source": [
        "学習曲線を確認すると早い段階で誤差が落ち着いていきます。\n",
        "\n",
        "難しい話をすると、誤差の勾配がなくなってしまうとそれ以上の学習が進みません。（勾配消失問題）"
      ]
    }
  ]
}