{
  "nbformat": 4,
  "nbformat_minor": 0,
  "metadata": {
    "colab": {
      "name": "quadFuncNetwork.ipynb",
      "provenance": [],
      "collapsed_sections": []
    },
    "kernelspec": {
      "name": "python3",
      "display_name": "Python 3"
    }
  },
  "cells": [
    {
      "cell_type": "markdown",
      "metadata": {
        "id": "vUMKfFQ8QzSE",
        "colab_type": "text"
      },
      "source": [
        "---\n",
        "# 二次関数の近似\n",
        "---\n",
        "NNを使って二次関数を近似していきます。"
      ]
    },
    {
      "cell_type": "code",
      "metadata": {
        "id": "sQGyIAjs1dXW",
        "colab_type": "code",
        "colab": {}
      },
      "source": [
        "import keras\n",
        "import random\n",
        "import numpy as np\n",
        "import matplotlib.pyplot as plt"
      ],
      "execution_count": 0,
      "outputs": []
    },
    {
      "cell_type": "markdown",
      "metadata": {
        "id": "OKCWknWtVFfm",
        "colab_type": "text"
      },
      "source": [
        "---\n",
        "### データの生成\n",
        "---\n",
        "ネットワークに入力するデータを生成します。　今回は一般的な二次関数を使用しますが、ネットワークに入力する際には0~1の間に正規化します。\n",
        "\n",
        "これは、ネットワーク内での計算中に値が発散（無限大とか。）しないようにするためです。\n",
        "\n",
        "---\n",
        "生成したデータは数学の世界でよく見かける単純な二次関数です。今回はこの関数を近似します。"
      ]
    },
    {
      "cell_type": "code",
      "metadata": {
        "id": "YDPoFB0r4I9K",
        "colab_type": "code",
        "outputId": "3a522dc9-0fef-45d2-bf18-35b822222eab",
        "colab": {
          "base_uri": "https://localhost:8080/",
          "height": 366
        }
      },
      "source": [
        "# random seed setting.\n",
        "random.seed(10,version=2)\n",
        "xs = np.asarray([random.uniform(0, 1.0) for i in range(100)], dtype=float)\n",
        "# nomalize 0 to 1.\n",
        "ys = (xs-0.5)**2*4\n",
        "plt.scatter(xs, ys)\n",
        "plt.title(\"Input data　set\")\n",
        "plt.xlabel(\"input\")\n",
        "plt.ylabel(\"output\")\n",
        "plt.show()"
      ],
      "execution_count": 16,
      "outputs": [
        {
          "output_type": "stream",
          "text": [
            "/usr/local/lib/python3.6/dist-packages/matplotlib/backends/backend_agg.py:211: RuntimeWarning: Glyph 12288 missing from current font.\n",
            "  font.set_text(s, 0.0, flags=flags)\n",
            "/usr/local/lib/python3.6/dist-packages/matplotlib/backends/backend_agg.py:180: RuntimeWarning: Glyph 12288 missing from current font.\n",
            "  font.set_text(s, 0, flags=flags)\n"
          ],
          "name": "stderr"
        },
        {
          "output_type": "display_data",
          "data": {
            "image/png": "[encoded data removed]",
            "text/plain": [
              "<Figure size 432x288 with 1 Axes>"
            ]
          },
          "metadata": {
            "tags": []
          }
        }
      ]
    },
    {
      "cell_type": "markdown",
      "metadata": {
        "id": "wrUcuyTrWUq9",
        "colab_type": "text"
      },
      "source": [
        "---\n",
        "### モデルの定義\n",
        "---\n",
        "モデルを定義します。関数として定義することで若干ながら使い勝手が良くなりますが、誤差の範囲でしょう。\n",
        "前回のモデルと比べて層が増えました。"
      ]
    },
    {
      "cell_type": "code",
      "metadata": {
        "id": "R3KtjC592MfE",
        "colab_type": "code",
        "colab": {}
      },
      "source": [
        "def modelBuild():\n",
        "  model = keras.Sequential([\n",
        "    keras.layers.Dense(1, input_shape=[1]),\n",
        "    keras.layers.Dense(10, activation='relu'),\n",
        "    keras.layers.Dense(10, activation='relu'),\n",
        "    keras.layers.Dense(10, activation='relu'),\n",
        "    keras.layers.Dense(10, activation='relu'),\n",
        "    keras.layers.Dense(10, activation='relu'),\n",
        "    keras.layers.Dense(10, activation='relu'),\n",
        "    keras.layers.Dense(10, activation='relu'),\n",
        "    keras.layers.Dense(1)\n",
        "  ])\n",
        "  model.compile(optimizer='adam', loss='mse')\n",
        "  model.summary()\n",
        "  return model"
      ],
      "execution_count": 0,
      "outputs": []
    },
    {
      "cell_type": "markdown",
      "metadata": {
        "id": "6OoUblkPWbbb",
        "colab_type": "text"
      },
      "source": [
        "---\n",
        "### 学習\n",
        "---\n",
        "学習については普段どおりに行います。パラメータ数が前回の単純パーセプトロンと比べて多くなり、より複雑な関数を近似することができるようになりました。\n",
        "\n",
        "今回からミニバッチ学習というものを利用します。これは下のコード内のbatch_size=10と記述されている部分です。今回用いる教師データは100個ありますが、100個を一度に学習させず。10個ずつ10回に分けて学習させます。\n",
        "\n",
        "今回の場合は、この手法を用いることで誤差関数の勾配が消失し、重みが更新されなくなることを防ぐことができます。\n",
        "\n",
        "パラメータが増加することで、学習に必要なEpoch数も増加して行きます。そのため、実用上利用可能な複雑なネットワークを学習させる際には非常に長い時間やマシンスペックが必要となってきます。"
      ]
    },
    {
      "cell_type": "code",
      "metadata": {
        "id": "PCWf-jvm3-ce",
        "colab_type": "code",
        "outputId": "f74ff655-62c1-460a-a3c6-5dbc2aa940b6",
        "colab": {
          "base_uri": "https://localhost:8080/",
          "height": 515
        }
      },
      "source": [
        "model = modelBuild()\n",
        "early_stop = keras.callbacks.EarlyStopping(monitor='val_loss', patience=1000)\n",
        "history = model.fit(xs, ys, batch_size=10, epochs=4000, verbose=0, callbacks=[early_stop])"
      ],
      "execution_count": 18,
      "outputs": [
        {
          "output_type": "stream",
          "text": [
            "Model: \"sequential_2\"\n",
            "_________________________________________________________________\n",
            "Layer (type)                 Output Shape              Param #   \n",
            "=================================================================\n",
            "dense_10 (Dense)             (None, 1)                 2         \n",
            "_________________________________________________________________\n",
            "dense_11 (Dense)             (None, 10)                20        \n",
            "_________________________________________________________________\n",
            "dense_12 (Dense)             (None, 10)                110       \n",
            "_________________________________________________________________\n",
            "dense_13 (Dense)             (None, 10)                110       \n",
            "_________________________________________________________________\n",
            "dense_14 (Dense)             (None, 10)                110       \n",
            "_________________________________________________________________\n",
            "dense_15 (Dense)             (None, 10)                110       \n",
            "_________________________________________________________________\n",
            "dense_16 (Dense)             (None, 10)                110       \n",
            "_________________________________________________________________\n",
            "dense_17 (Dense)             (None, 10)                110       \n",
            "_________________________________________________________________\n",
            "dense_18 (Dense)             (None, 1)                 11        \n",
            "=================================================================\n",
            "Total params: 693\n",
            "Trainable params: 693\n",
            "Non-trainable params: 0\n",
            "_________________________________________________________________\n"
          ],
          "name": "stdout"
        },
        {
          "output_type": "stream",
          "text": [
            "/usr/local/lib/python3.6/dist-packages/keras/callbacks.py:842: RuntimeWarning: Early stopping conditioned on metric `val_loss` which is not available. Available metrics are: loss\n",
            "  (self.monitor, ','.join(list(logs.keys()))), RuntimeWarning\n"
          ],
          "name": "stderr"
        }
      ]
    },
    {
      "cell_type": "markdown",
      "metadata": {
        "id": "cr8QNdECkgnJ",
        "colab_type": "text"
      },
      "source": [
        "---\n",
        "### 結果確認\n",
        "---\n",
        "学習させたモデルに数値を入力してどのような結果が帰ってくるか確認しましょう。\n",
        "\n",
        "入力は教師データと同じように0~1までの数値とします。"
      ]
    },
    {
      "cell_type": "code",
      "metadata": {
        "id": "-EDsI6YK5Y-I",
        "colab_type": "code",
        "outputId": "264a3886-c431-40f5-8242-5756d82934e6",
        "colab": {
          "base_uri": "https://localhost:8080/",
          "height": 299
        }
      },
      "source": [
        "test_data = np.asarray([random.uniform(0, 1.0) for i in range(400)], dtype=float)\n",
        "test_predict = model.predict(test_data)\n",
        "\n",
        "plt.scatter(test_data, test_predict)\n",
        "plt.title(\"Output data\")"
      ],
      "execution_count": 19,
      "outputs": [
        {
          "output_type": "execute_result",
          "data": {
            "text/plain": [
              "Text(0.5, 1.0, 'Output data')"
            ]
          },
          "metadata": {
            "tags": []
          },
          "execution_count": 19
        },
        {
          "output_type": "display_data",
          "data": {
            "image/png": "[encoded data removed]",
            "text/plain": [
              "<Figure size 432x288 with 1 Axes>"
            ]
          },
          "metadata": {
            "tags": []
          }
        }
      ]
    },
    {
      "cell_type": "markdown",
      "metadata": {
        "id": "sX-wA44Il7FX",
        "colab_type": "text"
      },
      "source": [
        "可視化すると近似できていそうです。"
      ]
    },
    {
      "cell_type": "markdown",
      "metadata": {
        "id": "FCAsDPAAdVo3",
        "colab_type": "text"
      },
      "source": [
        "実際に学習させた範囲外の入力に対してはこのようなグラフになってしまいます。\n",
        "\n",
        "ここで少し種明かしをしますと、実はこのニューラル・ネットワークで二次関数のような無限大までゆくような関数は近似が難しいです。（というか無限大に発散してしまうようなもの全般の近似は難しい）\n",
        "\n",
        "そのため、今回の例では入力データ（教師データ）を0~1の範囲に制限しました。\n",
        "\n",
        "若干コツが要りますが、今回の例でもエポックや層をいじることで学習させることができます。\n",
        "\n",
        "残念なことにそのような調整に対しての理論は殆どなく、職人技となってしまっているのが実情です。"
      ]
    },
    {
      "cell_type": "code",
      "metadata": {
        "id": "nb7G52d-foML",
        "colab_type": "code",
        "outputId": "de9fc946-062e-4a13-ce8f-7190754d4671",
        "colab": {
          "base_uri": "https://localhost:8080/",
          "height": 299
        }
      },
      "source": [
        "test_data = np.asarray([random.uniform(-2.0, 3.0) for i in range(400)], dtype=float)\n",
        "test_predict = model.predict(test_data)\n",
        "\n",
        "plt.scatter(test_data, test_predict)\n",
        "plt.title(\"Output data\")"
      ],
      "execution_count": 20,
      "outputs": [
        {
          "output_type": "execute_result",
          "data": {
            "text/plain": [
              "Text(0.5, 1.0, 'Output data')"
            ]
          },
          "metadata": {
            "tags": []
          },
          "execution_count": 20
        },
        {
          "output_type": "display_data",
          "data": {
            "image/png": "[encoded data removed]",
            "text/plain": [
              "<Figure size 432x288 with 1 Axes>"
            ]
          },
          "metadata": {
            "tags": []
          }
        }
      ]
    },
    {
      "cell_type": "markdown",
      "metadata": {
        "id": "djEYibg6yUKm",
        "colab_type": "text"
      },
      "source": [
        "もちろん、学習外の入力に対しては残念な結果になります。"
      ]
    },
    {
      "cell_type": "code",
      "metadata": {
        "id": "moUQaisTC9OR",
        "colab_type": "code",
        "outputId": "e45ba6ae-39e1-460a-fce4-3bc76e469d5a",
        "colab": {
          "base_uri": "https://localhost:8080/",
          "height": 295
        }
      },
      "source": [
        "plt.plot(history.history['loss'],label='loss')\n",
        "plt.ylabel('error')\n",
        "plt.xlabel('epoch')\n",
        "plt.title('Error')\n",
        "plt.legend()\n",
        "plt.show()"
      ],
      "execution_count": 21,
      "outputs": [
        {
          "output_type": "display_data",
          "data": {
            "image/png": "[encoded data removed]",
            "text/plain": [
              "<Figure size 432x288 with 1 Axes>"
            ]
          },
          "metadata": {
            "tags": []
          }
        }
      ]
    },
    {
      "cell_type": "markdown",
      "metadata": {
        "id": "2gr2oRHIdi9_",
        "colab_type": "text"
      },
      "source": [
        "学習曲線を確認すると早い段階で誤差が落ち着いていきます。\n",
        "\n",
        "難しい話をすると、誤差の勾配がなくなってしまうとそれ以上の学習が進みません。（勾配消失問題）"
      ]
    }
  ]
}