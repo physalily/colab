{
  "nbformat": 4,
  "nbformat_minor": 0,
  "metadata": {
    "colab": {
      "name": "MNIST.ipynb",
      "provenance": [],
      "collapsed_sections": [],
      "toc_visible": true,
      "include_colab_link": true
    },
    "kernelspec": {
      "name": "python3",
      "display_name": "Python 3"
    },
    "accelerator": "GPU"
  },
  "cells": [
    {
      "cell_type": "markdown",
      "metadata": {
        "id": "view-in-github",
        "colab_type": "text"
      },
      "source": [
        "<a href=\"https://colab.research.google.com/github/physalily/colab/blob/master/MNIST.ipynb\" target=\"_parent\"><img src=\"https://colab.research.google.com/assets/colab-badge.svg\" alt=\"Open In Colab\"/></a>"
      ]
    },
    {
      "cell_type": "markdown",
      "metadata": {
        "id": "jjQLmqidrkIC",
        "colab_type": "text"
      },
      "source": [
        "---\n",
        "# MNISTによる文字認識（分類）\n",
        "---\n",
        "\n",
        "MINIST(Mixed Natioal Institute of Standards and Technology database)を利用して文字の分類を行います。\n",
        "\n",
        "これまでの深層学習モデルでは回帰予測を行ってきました。MNISTでは手書きで書かれた文字の分類を行います。"
      ]
    },
    {
      "cell_type": "code",
      "metadata": {
        "id": "0J3QUjv5rxyJ",
        "colab_type": "code",
        "colab": {
          "base_uri": "https://localhost:8080/",
          "height": 35
        },
        "outputId": "f710538f-2603-49c4-c510-59fc41cb5be4"
      },
      "source": [
        "%tensorflow_version 1.x\n",
        "import keras \n",
        "import matplotlib.pyplot as plt"
      ],
      "execution_count": 1,
      "outputs": [
        {
          "output_type": "stream",
          "text": [
            "Using TensorFlow backend.\n"
          ],
          "name": "stderr"
        }
      ]
    },
    {
      "cell_type": "markdown",
      "metadata": {
        "id": "zlRjM-tUmb_T",
        "colab_type": "text"
      },
      "source": [
        "---\n",
        "### MNISTのデータ取得\n",
        "---\n",
        "MNISTからデータをダウンロードします。学習用データが60000枚、検証用データが10000枚ずつ用意されています。\n",
        "\n",
        "また、どのような画像かmatplotlibで確認しましょう。一番最初のデータは5のようです。\n",
        "\n",
        "このように、入力データとして画像が、出力データとして数値が与えられています。"
      ]
    },
    {
      "cell_type": "code",
      "metadata": {
        "id": "WgIAasNVs-4T",
        "colab_type": "code",
        "colab": {
          "base_uri": "https://localhost:8080/",
          "height": 54
        },
        "outputId": "c57018cb-be33-40d0-e77d-b77a014a9d9c"
      },
      "source": [
        "(x_train, y_train), (x_test, y_test) = keras.datasets.mnist.load_data()"
      ],
      "execution_count": 2,
      "outputs": [
        {
          "output_type": "stream",
          "text": [
            "Downloading data from https://s3.amazonaws.com/img-datasets/mnist.npz\n",
            "11493376/11490434 [==============================] - 2s 0us/step\n"
          ],
          "name": "stdout"
        }
      ]
    },
    {
      "cell_type": "code",
      "metadata": {
        "id": "PFgm13Iz8lyg",
        "colab_type": "code",
        "colab": {
          "base_uri": "https://localhost:8080/",
          "height": 302
        },
        "outputId": "964c91fd-08c5-4b74-8e2f-70dcd61da145"
      },
      "source": [
        "index = 0\n",
        "print(\"Number:\",y_train[index])\n",
        "plt.imshow(x_train[index])"
      ],
      "execution_count": 3,
      "outputs": [
        {
          "output_type": "stream",
          "text": [
            "Number: 5\n"
          ],
          "name": "stdout"
        },
        {
          "output_type": "execute_result",
          "data": {
            "text/plain": [
              "<matplotlib.image.AxesImage at 0x7fb69c3b17f0>"
            ]
          },
          "metadata": {
            "tags": []
          },
          "execution_count": 3
        },
        {
          "output_type": "display_data",
          "data": {
            "image/png": "[encoded data removed]",
            "text/plain": [
              "<Figure size 432x288 with 1 Axes>"
            ]
          },
          "metadata": {
            "tags": []
          }
        }
      ]
    },
    {
      "cell_type": "markdown",
      "metadata": {
        "id": "oGe4831zn8Iw",
        "colab_type": "text"
      },
      "source": [
        "---\n",
        "### データの加工\n",
        "---\n",
        "ダウンロードされた入力データは28x28pixelの画像データです。\n",
        "ニューラル・ネットワークへの入力は2次元ではなく1次元での入力となるので28x28を平滑化し784パラメータ1次元で入力します。\n",
        "\n",
        "また、このデータは0~255のグレースケールで与えられます。これを0から1に正規化するために全体を255で割っています。"
      ]
    },
    {
      "cell_type": "code",
      "metadata": {
        "id": "4ionZSAwtKgq",
        "colab_type": "code",
        "colab": {}
      },
      "source": [
        "num_image_shape = 784\n",
        "x_train = x_train.reshape(x_train.shape[0], num_image_shape)\n",
        "x_test  = x_test.reshape(x_test.shape[0], num_image_shape)\n",
        "x_train = x_train.astype('float32')\n",
        "x_test  = x_test.astype('float32')\n",
        "x_train /= 255\n",
        "x_test  /= 255"
      ],
      "execution_count": 0,
      "outputs": []
    },
    {
      "cell_type": "markdown",
      "metadata": {
        "id": "EU8Tudt8q7L4",
        "colab_type": "text"
      },
      "source": [
        "0~9までの手書きデータが与えられているため、10種類に分類する必要があります。\n",
        "\n",
        "教師データをone-hot-vectorという形で表現します。\n",
        "\n",
        "このような変換をするのは、分類先それぞれは数学的に独立しているためです。つまり、2+4=6であることは間違いないですが、2の画像と4の画像を足しても6の画像となることはありません。\n",
        "\n",
        "下のコードで変換した出力データを確認してください。（コメントを外してください。）"
      ]
    },
    {
      "cell_type": "code",
      "metadata": {
        "id": "3DYPwtKdvzp9",
        "colab_type": "code",
        "colab": {}
      },
      "source": [
        "num_classes = 10\n",
        "y_train = keras.utils.to_categorical(y_train, num_classes)\n",
        "y_test  = keras.utils.to_categorical(y_test,  num_classes)\n",
        "# print(\"y_test\", y_test[0])"
      ],
      "execution_count": 0,
      "outputs": []
    },
    {
      "cell_type": "markdown",
      "metadata": {
        "id": "IgfpboexsA9f",
        "colab_type": "text"
      },
      "source": [
        "---\n",
        "### モデルの構築\n",
        "---\n",
        "モデルを構築します。入力データの形は784個の1次元データとなります。\n",
        "これに全結合層を複数つなげたネットワークを構築します。\n",
        "\n",
        "出力ユニットの数は分類する種類の数（今回の例は0~9までの10種）になります。"
      ]
    },
    {
      "cell_type": "code",
      "metadata": {
        "id": "8j0ua0sgu9BY",
        "colab_type": "code",
        "colab": {}
      },
      "source": [
        "def buildModel():\n",
        "  model = keras.Sequential([\n",
        "                            keras.layers.Dense(784, input_shape=(784,), activation='relu'),\n",
        "                            keras.layers.Dense(256, activation='relu'),\n",
        "                            keras.layers.Dense(128, activation='relu'),\n",
        "                            keras.layers.Dense(num_classes, activation='softmax')\n",
        "  ])\n",
        "  model.compile(loss=keras.losses.categorical_crossentropy,\n",
        "             optimizer=keras.optimizers.Adadelta(),\n",
        "             metrics=['accuracy'])\n",
        "  model.summary()\n",
        "  return model"
      ],
      "execution_count": 0,
      "outputs": []
    },
    {
      "cell_type": "markdown",
      "metadata": {
        "id": "JrND5xEHsong",
        "colab_type": "text"
      },
      "source": [
        "---\n",
        "### 学習\n",
        "---\n",
        "それぞれのデータを入力し学習させます。"
      ]
    },
    {
      "cell_type": "code",
      "metadata": {
        "id": "JAevnjc627gO",
        "colab_type": "code",
        "colab": {
          "base_uri": "https://localhost:8080/",
          "height": 1000
        },
        "outputId": "f8f72dc6-f4a7-4e8b-81a6-9d5fd3db5232"
      },
      "source": [
        "model = buildModel()\n",
        "history = model.fit(x_train, y_train,\n",
        "                    batch_size=128,\n",
        "                    epochs=10,\n",
        "                    verbose=1,\n",
        "                    validation_data=(x_test, y_test))"
      ],
      "execution_count": 7,
      "outputs": [
        {
          "output_type": "stream",
          "text": [
            "WARNING:tensorflow:From /usr/local/lib/python3.6/dist-packages/keras/backend/tensorflow_backend.py:66: The name tf.get_default_graph is deprecated. Please use tf.compat.v1.get_default_graph instead.\n",
            "\n",
            "WARNING:tensorflow:From /usr/local/lib/python3.6/dist-packages/keras/backend/tensorflow_backend.py:541: The name tf.placeholder is deprecated. Please use tf.compat.v1.placeholder instead.\n",
            "\n",
            "WARNING:tensorflow:From /usr/local/lib/python3.6/dist-packages/keras/backend/tensorflow_backend.py:4432: The name tf.random_uniform is deprecated. Please use tf.random.uniform instead.\n",
            "\n",
            "WARNING:tensorflow:From /usr/local/lib/python3.6/dist-packages/keras/optimizers.py:793: The name tf.train.Optimizer is deprecated. Please use tf.compat.v1.train.Optimizer instead.\n",
            "\n",
            "WARNING:tensorflow:From /usr/local/lib/python3.6/dist-packages/keras/backend/tensorflow_backend.py:3576: The name tf.log is deprecated. Please use tf.math.log instead.\n",
            "\n",
            "Model: \"sequential_1\"\n",
            "_________________________________________________________________\n",
            "Layer (type)                 Output Shape              Param #   \n",
            "=================================================================\n",
            "dense_1 (Dense)              (None, 784)               615440    \n",
            "_________________________________________________________________\n",
            "dense_2 (Dense)              (None, 256)               200960    \n",
            "_________________________________________________________________\n",
            "dense_3 (Dense)              (None, 128)               32896     \n",
            "_________________________________________________________________\n",
            "dense_4 (Dense)              (None, 10)                1290      \n",
            "=================================================================\n",
            "Total params: 850,586\n",
            "Trainable params: 850,586\n",
            "Non-trainable params: 0\n",
            "_________________________________________________________________\n",
            "WARNING:tensorflow:From /usr/local/lib/python3.6/dist-packages/tensorflow_core/python/ops/math_grad.py:1424: where (from tensorflow.python.ops.array_ops) is deprecated and will be removed in a future version.\n",
            "Instructions for updating:\n",
            "Use tf.where in 2.0, which has the same broadcast rule as np.where\n",
            "WARNING:tensorflow:From /usr/local/lib/python3.6/dist-packages/keras/backend/tensorflow_backend.py:1033: The name tf.assign_add is deprecated. Please use tf.compat.v1.assign_add instead.\n",
            "\n",
            "WARNING:tensorflow:From /usr/local/lib/python3.6/dist-packages/keras/backend/tensorflow_backend.py:1020: The name tf.assign is deprecated. Please use tf.compat.v1.assign instead.\n",
            "\n",
            "WARNING:tensorflow:From /usr/local/lib/python3.6/dist-packages/keras/backend/tensorflow_backend.py:3005: The name tf.Session is deprecated. Please use tf.compat.v1.Session instead.\n",
            "\n",
            "Train on 60000 samples, validate on 10000 samples\n",
            "Epoch 1/10\n",
            "WARNING:tensorflow:From /usr/local/lib/python3.6/dist-packages/keras/backend/tensorflow_backend.py:190: The name tf.get_default_session is deprecated. Please use tf.compat.v1.get_default_session instead.\n",
            "\n",
            "WARNING:tensorflow:From /usr/local/lib/python3.6/dist-packages/keras/backend/tensorflow_backend.py:197: The name tf.ConfigProto is deprecated. Please use tf.compat.v1.ConfigProto instead.\n",
            "\n",
            "WARNING:tensorflow:From /usr/local/lib/python3.6/dist-packages/keras/backend/tensorflow_backend.py:207: The name tf.global_variables is deprecated. Please use tf.compat.v1.global_variables instead.\n",
            "\n",
            "WARNING:tensorflow:From /usr/local/lib/python3.6/dist-packages/keras/backend/tensorflow_backend.py:216: The name tf.is_variable_initialized is deprecated. Please use tf.compat.v1.is_variable_initialized instead.\n",
            "\n",
            "WARNING:tensorflow:From /usr/local/lib/python3.6/dist-packages/keras/backend/tensorflow_backend.py:223: The name tf.variables_initializer is deprecated. Please use tf.compat.v1.variables_initializer instead.\n",
            "\n",
            "60000/60000 [==============================] - 13s 209us/step - loss: 0.2636 - acc: 0.9185 - val_loss: 0.1209 - val_acc: 0.9617\n",
            "Epoch 2/10\n",
            "60000/60000 [==============================] - 3s 51us/step - loss: 0.0901 - acc: 0.9723 - val_loss: 0.1069 - val_acc: 0.9659\n",
            "Epoch 3/10\n",
            "60000/60000 [==============================] - 3s 50us/step - loss: 0.0570 - acc: 0.9821 - val_loss: 0.0750 - val_acc: 0.9770\n",
            "Epoch 4/10\n",
            "60000/60000 [==============================] - 3s 51us/step - loss: 0.0373 - acc: 0.9881 - val_loss: 0.0853 - val_acc: 0.9752\n",
            "Epoch 5/10\n",
            "60000/60000 [==============================] - 3s 49us/step - loss: 0.0261 - acc: 0.9917 - val_loss: 0.0919 - val_acc: 0.9739\n",
            "Epoch 6/10\n",
            "60000/60000 [==============================] - 3s 51us/step - loss: 0.0168 - acc: 0.9947 - val_loss: 0.0613 - val_acc: 0.9813\n",
            "Epoch 7/10\n",
            "60000/60000 [==============================] - 3s 50us/step - loss: 0.0115 - acc: 0.9965 - val_loss: 0.0635 - val_acc: 0.9834\n",
            "Epoch 8/10\n",
            "60000/60000 [==============================] - 3s 49us/step - loss: 0.0076 - acc: 0.9978 - val_loss: 0.0764 - val_acc: 0.9796\n",
            "Epoch 9/10\n",
            "60000/60000 [==============================] - 3s 52us/step - loss: 0.0048 - acc: 0.9986 - val_loss: 0.0726 - val_acc: 0.9811\n",
            "Epoch 10/10\n",
            "60000/60000 [==============================] - 3s 49us/step - loss: 0.0031 - acc: 0.9991 - val_loss: 0.0722 - val_acc: 0.9823\n"
          ],
          "name": "stdout"
        }
      ]
    },
    {
      "cell_type": "markdown",
      "metadata": {
        "id": "bjHCXtmrtw4o",
        "colab_type": "text"
      },
      "source": [
        "---\n",
        "### 学習結果の確認\n",
        "---\n",
        "学習の結果を確認します。学習に使用していないデータで検証を行います。\n",
        "結果として98%の精度で分類できています。"
      ]
    },
    {
      "cell_type": "code",
      "metadata": {
        "id": "udeq2kIk8Nvh",
        "colab_type": "code",
        "colab": {
          "base_uri": "https://localhost:8080/",
          "height": 54
        },
        "outputId": "8b628817-3713-458a-f018-0a6bc39ae8e1"
      },
      "source": [
        "score = model.evaluate(x_test, y_test, verbose=0)\n",
        "print('Test loss:', score[0])\n",
        "print('Test accuraxy:',score[1])"
      ],
      "execution_count": 8,
      "outputs": [
        {
          "output_type": "stream",
          "text": [
            "Test loss: 0.07215710943471768\n",
            "Test accuraxy: 0.9823\n"
          ],
          "name": "stdout"
        }
      ]
    },
    {
      "cell_type": "markdown",
      "metadata": {
        "id": "2q8CmvFVusKi",
        "colab_type": "text"
      },
      "source": [
        "学習曲線を確認します。\n",
        "両方とも精度（Accuracyは正確さなので厳密には違うものです）\n",
        "\n",
        "一見テストデータが低そうですが両者とも95%以上の好結果が出ています。"
      ]
    },
    {
      "cell_type": "code",
      "metadata": {
        "id": "LsAaj-8e8XbO",
        "colab_type": "code",
        "colab": {
          "base_uri": "https://localhost:8080/",
          "height": 295
        },
        "outputId": "18b96011-a9b1-45df-edd0-3cdd0991fdb8"
      },
      "source": [
        "plt.plot(history.history['acc'])\n",
        "plt.plot(history.history['val_acc'])\n",
        "plt.ylabel('accuracy')\n",
        "plt.xlabel('epoch')\n",
        "plt.title('Accuracy')\n",
        "plt.legend(['train', 'test'], loc='upper left')\n",
        "plt.show()"
      ],
      "execution_count": 9,
      "outputs": [
        {
          "output_type": "display_data",
          "data": {
            "image/png": "[encoded data removed]",
            "text/plain": [
              "<Figure size 432x288 with 1 Axes>"
            ]
          },
          "metadata": {
            "tags": []
          }
        }
      ]
    },
    {
      "cell_type": "markdown",
      "metadata": {
        "id": "lxrfh_-zvETV",
        "colab_type": "text"
      },
      "source": [
        "98%の精度を得たのでこれで十分のように思えます。しかしこのネットワークには致命的な欠陥が存在しています。\n",
        "\n",
        "このモデルに対して自分の手書き文字を入力した場合、実は半分ほど判別できません。（約60％～70%）これにはもちろん理由があります。\n",
        "\n",
        "それは画像内の文字が予め中央に配置されていることです。我々が自分で手書き入力した文字は中央に配置されていません。このネットワークでは位置関係によって認識が変わってしまうため、このような誤判定が増えてしまうのです。\n",
        "\n",
        "他にも色々な欠点があり、MNISTでは高精度が出ていますが、実用上全結合層のみで構成されたネットワークはあまり性能がよくありません。\n"
      ]
    },
    {
      "cell_type": "markdown",
      "metadata": {
        "id": "H8tptBkEu9iw",
        "colab_type": "text"
      },
      "source": [
        "---\n",
        "### 畳み込みニューラル・ネットワーク\n",
        "---\n",
        "畳み込みニューラル・ネットワークで前述の位置関係によって認識できなくなるといった問題を軽減することができます。\n",
        "\n",
        "層の中身は画像処理におけるフィルターに酷似しています。"
      ]
    },
    {
      "cell_type": "markdown",
      "metadata": {
        "id": "oFxeStFIwwUC",
        "colab_type": "text"
      },
      "source": [
        "まず、入力するデータを2次元に戻します。色部分の次元を含め１データあたり３次元のデータに変換します。（28x28x1）"
      ]
    },
    {
      "cell_type": "code",
      "metadata": {
        "id": "25_LUrI-9WVF",
        "colab_type": "code",
        "colab": {}
      },
      "source": [
        "img_pixel = 28\n",
        "colors = 1\n",
        "x_train = x_train.reshape(x_train.shape[0], img_pixel, img_pixel, colors)\n",
        "x_test  = x_test.reshape(x_test.shape[0], img_pixel, img_pixel, colors)"
      ],
      "execution_count": 0,
      "outputs": []
    },
    {
      "cell_type": "markdown",
      "metadata": {
        "id": "UkGdpdK7wV3o",
        "colab_type": "text"
      },
      "source": [
        "---\n",
        "### 畳み込みニューラル・ネットワークの構築\n",
        "---\n"
      ]
    },
    {
      "cell_type": "markdown",
      "metadata": {
        "id": "8N5U20kW4pb4",
        "colab_type": "text"
      },
      "source": [
        "本来であれば複雑なアルゴリズムの実装をしなければならないところですが、Kerasにすでに２次元の畳込みネットワーク実装されています。（Conv2D）\n",
        "\n",
        "またプーリングや平滑化なども実装されており、非常に簡単にネットワークを構築することが可能です。"
      ]
    },
    {
      "cell_type": "code",
      "metadata": {
        "id": "_qkKI3fv97v1",
        "colab_type": "code",
        "colab": {}
      },
      "source": [
        "def buildCnnModel(input_shape):\n",
        "  model = keras.Sequential([\n",
        "    keras.layers.Conv2D(28, (3,3), activation='relu', input_shape=input_shape),\n",
        "    keras.layers.Conv2D(56, (3,3), activation='relu'),\n",
        "    keras.layers.MaxPool2D(pool_size=(2,2)),\n",
        "    keras.layers.Dropout(0.3),\n",
        "    keras.layers.Flatten(),\n",
        "    keras.layers.Dense(128, activation='relu'),\n",
        "    keras.layers.Dropout(0.3),\n",
        "    keras.layers.Dense(num_classes, activation='softmax')\n",
        "  ])\n",
        "  model.compile(loss=keras.losses.categorical_crossentropy,\n",
        "             optimizer=keras.optimizers.Adadelta(),\n",
        "             metrics=['accuracy'])\n",
        "  model.summary()\n",
        "  return model"
      ],
      "execution_count": 0,
      "outputs": []
    },
    {
      "cell_type": "markdown",
      "metadata": {
        "id": "yzY20HJD5TG1",
        "colab_type": "text"
      },
      "source": [
        "---\n",
        "### 学習（CNN）\n",
        "---\n",
        "学習の際のパラメータは先程と同じ条件で行います。\n",
        "\n",
        "学習可能な重み（パラメータ）はより増加し、１００万を超えています。（先程は８５万）"
      ]
    },
    {
      "cell_type": "code",
      "metadata": {
        "id": "UOI3MtDACN6B",
        "colab_type": "code",
        "colab": {
          "base_uri": "https://localhost:8080/",
          "height": 845
        },
        "outputId": "f5702f77-eece-439c-d2df-c16ab9060eb2"
      },
      "source": [
        "model = buildCnnModel(input_shape=x_train[0].shape)\n",
        "hist = model.fit(x_train, y_train,\n",
        "         batch_size=128,\n",
        "         epochs=10,\n",
        "         verbose=1,\n",
        "         validation_data=(x_test, y_test))"
      ],
      "execution_count": 13,
      "outputs": [
        {
          "output_type": "stream",
          "text": [
            "Model: \"sequential_3\"\n",
            "_________________________________________________________________\n",
            "Layer (type)                 Output Shape              Param #   \n",
            "=================================================================\n",
            "conv2d_3 (Conv2D)            (None, 26, 26, 28)        280       \n",
            "_________________________________________________________________\n",
            "conv2d_4 (Conv2D)            (None, 24, 24, 56)        14168     \n",
            "_________________________________________________________________\n",
            "max_pooling2d_2 (MaxPooling2 (None, 12, 12, 56)        0         \n",
            "_________________________________________________________________\n",
            "dropout_3 (Dropout)          (None, 12, 12, 56)        0         \n",
            "_________________________________________________________________\n",
            "flatten_2 (Flatten)          (None, 8064)              0         \n",
            "_________________________________________________________________\n",
            "dense_7 (Dense)              (None, 128)               1032320   \n",
            "_________________________________________________________________\n",
            "dropout_4 (Dropout)          (None, 128)               0         \n",
            "_________________________________________________________________\n",
            "dense_8 (Dense)              (None, 10)                1290      \n",
            "=================================================================\n",
            "Total params: 1,048,058\n",
            "Trainable params: 1,048,058\n",
            "Non-trainable params: 0\n",
            "_________________________________________________________________\n",
            "Train on 60000 samples, validate on 10000 samples\n",
            "Epoch 1/10\n",
            "60000/60000 [==============================] - 9s 157us/step - loss: 0.2302 - acc: 0.9285 - val_loss: 0.0562 - val_acc: 0.9822\n",
            "Epoch 2/10\n",
            "60000/60000 [==============================] - 4s 70us/step - loss: 0.0704 - acc: 0.9790 - val_loss: 0.0387 - val_acc: 0.9873\n",
            "Epoch 3/10\n",
            "60000/60000 [==============================] - 4s 72us/step - loss: 0.0520 - acc: 0.9835 - val_loss: 0.0359 - val_acc: 0.9878\n",
            "Epoch 4/10\n",
            "60000/60000 [==============================] - 4s 71us/step - loss: 0.0420 - acc: 0.9871 - val_loss: 0.0272 - val_acc: 0.9901\n",
            "Epoch 5/10\n",
            "60000/60000 [==============================] - 4s 71us/step - loss: 0.0362 - acc: 0.9892 - val_loss: 0.0295 - val_acc: 0.9904\n",
            "Epoch 6/10\n",
            "60000/60000 [==============================] - 4s 73us/step - loss: 0.0297 - acc: 0.9906 - val_loss: 0.0281 - val_acc: 0.9901\n",
            "Epoch 7/10\n",
            "60000/60000 [==============================] - 4s 73us/step - loss: 0.0263 - acc: 0.9921 - val_loss: 0.0257 - val_acc: 0.9922\n",
            "Epoch 8/10\n",
            "60000/60000 [==============================] - 4s 72us/step - loss: 0.0234 - acc: 0.9924 - val_loss: 0.0297 - val_acc: 0.9904\n",
            "Epoch 9/10\n",
            "60000/60000 [==============================] - 4s 72us/step - loss: 0.0192 - acc: 0.9939 - val_loss: 0.0240 - val_acc: 0.9925\n",
            "Epoch 10/10\n",
            "60000/60000 [==============================] - 4s 69us/step - loss: 0.0194 - acc: 0.9939 - val_loss: 0.0247 - val_acc: 0.9921\n"
          ],
          "name": "stdout"
        }
      ]
    },
    {
      "cell_type": "markdown",
      "metadata": {
        "id": "LerYZM9a5x1R",
        "colab_type": "text"
      },
      "source": [
        "---\n",
        "### 学習結果の確認（CNN）\n",
        "---\n",
        "学習した結果、全結合層のみで構築したネットワークよりもより良い精度が出ます。\n",
        "\n",
        "また、自ら手書きした文字を入力した際でもある程度精度が向上しているはずです。"
      ]
    },
    {
      "cell_type": "code",
      "metadata": {
        "id": "be23ls9uC9xt",
        "colab_type": "code",
        "colab": {
          "base_uri": "https://localhost:8080/",
          "height": 54
        },
        "outputId": "e13ec926-df43-4c06-ac6d-3569de5b4e86"
      },
      "source": [
        "score = model.evaluate(x_test, y_test, verbose=0)\n",
        "print('Test loss:', score[0])\n",
        "print('Test accuraxy:',score[1])"
      ],
      "execution_count": 14,
      "outputs": [
        {
          "output_type": "stream",
          "text": [
            "Test loss: 0.024675600505883723\n",
            "Test accuraxy: 0.9921\n"
          ],
          "name": "stdout"
        }
      ]
    },
    {
      "cell_type": "code",
      "metadata": {
        "id": "c8jQcmooDCCk",
        "colab_type": "code",
        "colab": {
          "base_uri": "https://localhost:8080/",
          "height": 295
        },
        "outputId": "8167618e-049a-484a-ed16-ff3c67cbaecb"
      },
      "source": [
        "plt.plot(history.history['acc'])\n",
        "plt.plot(history.history['val_acc'])\n",
        "plt.ylabel('accuracy')\n",
        "plt.xlabel('epoch')\n",
        "plt.title('Accuracy')\n",
        "plt.legend(['train', 'test'], loc='upper left')\n",
        "plt.show()"
      ],
      "execution_count": 15,
      "outputs": [
        {
          "output_type": "display_data",
          "data": {
            "image/png": "[encoded data removed]",
            "text/plain": [
              "<Figure size 432x288 with 1 Axes>"
            ]
          },
          "metadata": {
            "tags": []
          }
        }
      ]
    }
  ]
}